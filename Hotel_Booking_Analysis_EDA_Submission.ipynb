{
  "nbformat": 4,
  "nbformat_minor": 0,
  "metadata": {
    "colab": {
      "private_outputs": true,
      "provenance": [],
      "collapsed_sections": [
        "PIIx-8_IphqN",
        "t27r6nlMphqO",
        "r2jJGEOYphqO",
        "b0JNsNcRphqO",
        "BZR9WyysphqO",
        "jj7wYXLtphqO",
        "eZrbJ2SmphqO",
        "rFu4xreNphqO",
        "YJ55k-q6phqO",
        "gCFgpxoyphqP",
        "OVtJsKN_phqQ",
        "lssrdh5qphqQ",
        "U2RJ9gkRphqQ",
        "1M8mcRywphqQ",
        "tgIPom80phqQ",
        "JMzcOPDDphqR",
        "x-EpHcCOp1ci",
        "X_VqEhTip1ck",
        "8zGJKyg5p1ck",
        "PVzmfK_Ep1ck",
        "n3dbpmDWp1ck",
        "ylSl6qgtp1ck",
        "ZWILFDl5p1ck",
        "M7G43BXep1ck",
        "Ag9LCva-p1cl",
        "E6MkPsBcp1cl",
        "2cELzS2fp1cl",
        "3MPXvC8up1cl",
        "NC_X3p0fY2L0",
        "UV0SzAkaZNRQ",
        "YPEH6qLeZNRQ",
        "q29F0dvdveiT",
        "EXh0U9oCveiU",
        "22aHeOlLveiV",
        "JcMwzZxoAimU",
        "8G2x9gOozGDZ",
        "gCX9965dhzqZ",
        "gIfDvo9L0UH2"
      ],
      "include_colab_link": true
    },
    "kernelspec": {
      "name": "python3",
      "display_name": "Python 3"
    },
    "language_info": {
      "name": "python"
    }
  },
  "cells": [
    {
      "cell_type": "markdown",
      "metadata": {
        "id": "view-in-github",
        "colab_type": "text"
      },
      "source": [
        "<a href=\"https://colab.research.google.com/github/hitsaikateie/Hotel-Booking-Analysis-EDA-Submission.ipynb/blob/main/Hotel_Booking_Analysis_EDA_Submission.ipynb\" target=\"_parent\"><img src=\"https://colab.research.google.com/assets/colab-badge.svg\" alt=\"Open In Colab\"/></a>"
      ]
    },
    {
      "cell_type": "markdown",
      "source": [
        "# **Project Name**    - ***Hotel Booking Analysis***\n"
      ],
      "metadata": {
        "id": "vncDsAP0Gaoa"
      }
    },
    {
      "cell_type": "markdown",
      "source": [
        "##### **Project Type**    - EDA\n",
        "##### **Contribution**    - Individual\n",
        "##### **Team Member 1 -**\n",
        "##### **Team Member 2 -**\n",
        "##### **Team Member 3 -**\n",
        "##### **Team Member 4 -**"
      ],
      "metadata": {
        "id": "beRrZCGUAJYm"
      }
    },
    {
      "cell_type": "markdown",
      "source": [
        "# **Project Summary -**"
      ],
      "metadata": {
        "id": "FJNUwmbgGyua"
      }
    },
    {
      "cell_type": "markdown",
      "source": [
        "Hotel industry is a very volatile industry and the bookings depend on variety of factors such as type of hotels, days of week, month and many more. In this project we will be analyzing the patterns available in the given data set to help the hotels plan better. The given data set contains booking information for a city hotel and a resort hotel and includes information such as when the booking was made, length of stay, the number of adults, children, and/or babies, and the number of available parking spaces, among other things. Our aim is to create meaningful estimators from the data set we have and to perform Exploratory Data Analysis.\n",
        "\n",
        "The tools for data analysis used in this project are the packages Numpy and Pandas, and to visualize and explore the data: Matplotlib and Seaborn."
      ],
      "metadata": {
        "id": "F6v_1wHtG2nS"
      }
    },
    {
      "cell_type": "markdown",
      "source": [
        "# **GitHub Link -**"
      ],
      "metadata": {
        "id": "w6K7xa23Elo4"
      }
    },
    {
      "cell_type": "markdown",
      "source": [
        "Provide your GitHub Link here."
      ],
      "metadata": {
        "id": "h1o69JH3Eqqn"
      }
    },
    {
      "cell_type": "markdown",
      "source": [
        "# **Problem Statement**\n"
      ],
      "metadata": {
        "id": "yQaldy8SH6Dl"
      }
    },
    {
      "cell_type": "markdown",
      "source": [
        "Our data set contains booking information for a city hotel and a resort hotel and includes information such as when the booking was made, length of stay, the number of adults, children, and/or babies, and the number of available parking spaces, among other things. All personally identifying information has from the data.\n",
        "\n",
        "We will perform exploratory data analysis with python to get insight from the data.\n",
        "\n",
        "Our focus will be exploring about the following factors.\n",
        "\n",
        "*   How Many Booking Were Cancelled?\n",
        "*   What is the booking ratio between Resort Hotel and City Hotel?\n",
        "*   What is the percentage of booking for each year?\n",
        "*   Which is the busiest month for hotels?\n",
        "*   From which country most guests come?\n",
        "*   How Long People Stay in the hotel?\n",
        "*   Which was the most booked accommodation type (Single, Couple, Family)?"
      ],
      "metadata": {
        "id": "DpeJGUA3kjGy"
      }
    },
    {
      "cell_type": "markdown",
      "source": [
        "#### **Define Your Business Objective?**"
      ],
      "metadata": {
        "id": "PH-0ReGfmX4f"
      }
    },
    {
      "cell_type": "markdown",
      "source": [
        "Our aim is to analyz the pattern of various parameters from the data set we have and to perform Exploratory Data Analysis so that the hotels can plan accordingly to improve their business in future."
      ],
      "metadata": {
        "id": "PhDvGCAqmjP1"
      }
    },
    {
      "cell_type": "markdown",
      "source": [
        "# **General Guidelines** : -  "
      ],
      "metadata": {
        "id": "mDgbUHAGgjLW"
      }
    },
    {
      "cell_type": "markdown",
      "source": [
        "1.   Well-structured, formatted, and commented code is required. \n",
        "2.   Exception Handling, Production Grade Code & Deployment Ready Code will be a plus. Those students will be awarded some additional credits. \n",
        "     \n",
        "     The additional credits will have advantages over other students during Star Student selection.\n",
        "       \n",
        "             [ Note: - Deployment Ready Code is defined as, the whole .ipynb notebook should be executable in one go\n",
        "                       without a single error logged. ]\n",
        "\n",
        "3.   Each and every logic should have proper comments.\n",
        "4. You may add as many number of charts you want. Make Sure for each and every chart the following format should be answered.\n",
        "        \n",
        "\n",
        "```\n",
        "# Chart visualization code\n",
        "```\n",
        "            \n",
        "\n",
        "*   Why did you pick the specific chart?\n",
        "*   What is/are the insight(s) found from the chart?\n",
        "* Will the gained insights help creating a positive business impact? \n",
        "Are there any insights that lead to negative growth? Justify with specific reason.\n",
        "\n",
        "5. You have to create at least 20 logical & meaningful charts having important insights.\n",
        "\n",
        "\n",
        "[ Hints : - Do the Vizualization in  a structured way while following \"UBM\" Rule. \n",
        "\n",
        "U - Univariate Analysis,\n",
        "\n",
        "B - Bivariate Analysis (Numerical - Categorical, Numerical - Numerical, Categorical - Categorical)\n",
        "\n",
        "M - Multivariate Analysis\n",
        " ]\n",
        "\n",
        "\n",
        "\n"
      ],
      "metadata": {
        "id": "ZrxVaUj-hHfC"
      }
    },
    {
      "cell_type": "markdown",
      "source": [
        "# ***Let's Begin !***"
      ],
      "metadata": {
        "id": "O_i_v8NEhb9l"
      }
    },
    {
      "cell_type": "markdown",
      "source": [
        "## ***1. Know Your Data***"
      ],
      "metadata": {
        "id": "HhfV-JJviCcP"
      }
    },
    {
      "cell_type": "markdown",
      "source": [
        "### Import Libraries"
      ],
      "metadata": {
        "id": "Y3lxredqlCYt"
      }
    },
    {
      "cell_type": "code",
      "source": [
        "from io import IncrementalNewlineDecoder\n",
        "# Import Libraries\n",
        "import numpy as np\n",
        "import pandas as pd\n",
        "import matplotlib.pyplot as plt\n",
        "%matplotlib inline\n",
        "from datetime import datetime\n",
        "import seaborn as sns\n",
        "import ast"
      ],
      "metadata": {
        "id": "M8Vqi-pPk-HR"
      },
      "execution_count": null,
      "outputs": []
    },
    {
      "cell_type": "markdown",
      "source": [
        "### Dataset Loading"
      ],
      "metadata": {
        "id": "3RnN4peoiCZX"
      }
    },
    {
      "cell_type": "code",
      "source": [
        "# Load Dataset\n",
        "from google.colab import drive\n",
        "drive.mount('/content/drive')"
      ],
      "metadata": {
        "id": "4CkvbW_SlZ_R"
      },
      "execution_count": null,
      "outputs": []
    },
    {
      "cell_type": "markdown",
      "source": [
        "### Dataset First View"
      ],
      "metadata": {
        "id": "x71ZqKXriCWQ"
      }
    },
    {
      "cell_type": "code",
      "source": [
        "# Dataset First Look\n",
        "path=('/content/Hotel Bookings.csv')\n",
        "Hotel_booking_df=pd.read_csv(path)"
      ],
      "metadata": {
        "id": "LWNFOSvLl09H"
      },
      "execution_count": null,
      "outputs": []
    },
    {
      "cell_type": "code",
      "source": [
        "Hotel_booking_df.head()"
      ],
      "metadata": {
        "id": "zrAqr-QNS4cA"
      },
      "execution_count": null,
      "outputs": []
    },
    {
      "cell_type": "markdown",
      "source": [
        "### Dataset Rows & Columns count"
      ],
      "metadata": {
        "id": "7hBIi_osiCS2"
      }
    },
    {
      "cell_type": "code",
      "source": [
        "# Dataset Rows & Columns count\n",
        "Hotel_booking_df.shape"
      ],
      "metadata": {
        "id": "Kllu7SJgmLij"
      },
      "execution_count": null,
      "outputs": []
    },
    {
      "cell_type": "code",
      "source": [
        "#From the shape we can say threre are 119390 rows and 32 columns in the date set"
      ],
      "metadata": {
        "id": "oq4h8n2dTbMn"
      },
      "execution_count": null,
      "outputs": []
    },
    {
      "cell_type": "code",
      "source": [
        "number_of_rows=Hotel_booking_df.shape[0]"
      ],
      "metadata": {
        "id": "bQQl05Fmc8sX"
      },
      "execution_count": null,
      "outputs": []
    },
    {
      "cell_type": "code",
      "source": [
        "number_of_rows"
      ],
      "metadata": {
        "id": "qptWzr29dhLp"
      },
      "execution_count": null,
      "outputs": []
    },
    {
      "cell_type": "code",
      "source": [
        "number_of_columns=Hotel_booking_df.shape[1]"
      ],
      "metadata": {
        "id": "PWhYgWskdQ7z"
      },
      "execution_count": null,
      "outputs": []
    },
    {
      "cell_type": "code",
      "source": [
        "number_of_columns"
      ],
      "metadata": {
        "id": "OiPgb5OTdpTC"
      },
      "execution_count": null,
      "outputs": []
    },
    {
      "cell_type": "markdown",
      "source": [
        "### Dataset Information"
      ],
      "metadata": {
        "id": "JlHwYmJAmNHm"
      }
    },
    {
      "cell_type": "code",
      "source": [
        "# Dataset Info\n",
        "Hotel_booking_df.info()"
      ],
      "metadata": {
        "id": "e9hRXRi6meOf"
      },
      "execution_count": null,
      "outputs": []
    },
    {
      "cell_type": "markdown",
      "source": [
        "#### Duplicate Values"
      ],
      "metadata": {
        "id": "35m5QtbWiB9F"
      }
    },
    {
      "cell_type": "code",
      "source": [
        "# Dataset Duplicate Value Count\n",
        "Hotel_booking_df.duplicated().sum()"
      ],
      "metadata": {
        "id": "1sLdpKYkmox0"
      },
      "execution_count": null,
      "outputs": []
    },
    {
      "cell_type": "code",
      "source": [
        "#now we will delete the duplicate values using drop function\n",
        "\n",
        "Hotel_booking_df.drop_duplicates(inplace=True)"
      ],
      "metadata": {
        "id": "jmY_MZFffNj8"
      },
      "execution_count": null,
      "outputs": []
    },
    {
      "cell_type": "code",
      "source": [
        "#Number of rows without duplicate\n",
        "number_of_rows_without_duplicate=Hotel_booking_df.shape[0]"
      ],
      "metadata": {
        "id": "jY2vKBEXgQqr"
      },
      "execution_count": null,
      "outputs": []
    },
    {
      "cell_type": "code",
      "source": [
        "number_of_rows_without_duplicate"
      ],
      "metadata": {
        "id": "UF3w5YVtgg-E"
      },
      "execution_count": null,
      "outputs": []
    },
    {
      "cell_type": "code",
      "source": [
        "Hotel_booking_df.reset_index().head()"
      ],
      "metadata": {
        "id": "QVrSxQClgq5y"
      },
      "execution_count": null,
      "outputs": []
    },
    {
      "cell_type": "markdown",
      "source": [
        "#### Missing Values/Null Values"
      ],
      "metadata": {
        "id": "PoPl-ycgm1ru"
      }
    },
    {
      "cell_type": "code",
      "source": [
        "# Missing Values/Null Values Count\n",
        "null_values=Hotel_booking_df.isnull()==True\n",
        "Hotel_booking_df.fillna(np.nan,inplace=True)\n"
      ],
      "metadata": {
        "id": "GgHWkxvamxVg"
      },
      "execution_count": null,
      "outputs": []
    },
    {
      "cell_type": "code",
      "source": [
        "Hotel_booking_df.head()"
      ],
      "metadata": {
        "id": "NStj_TJqkvK6"
      },
      "execution_count": null,
      "outputs": []
    },
    {
      "cell_type": "code",
      "source": [
        "# Visualizing the missing values\n",
        "Hotel_booking_df.isnull().sum().sort_values(ascending=False)[:10]"
      ],
      "metadata": {
        "id": "3q5wnI3om9sJ"
      },
      "execution_count": null,
      "outputs": []
    },
    {
      "cell_type": "markdown",
      "source": [
        "### What did you know about your dataset?"
      ],
      "metadata": {
        "id": "H0kj-8xxnORC"
      }
    },
    {
      "cell_type": "markdown",
      "source": [
        "Out dataset contains 119390 rows and 32 columns with diffrent varriable types. It has 31994 duplicate values different columns and there are missing values for the columns 'Company','agent','country','children'. There are 3 type of information inside the columns as integer, float and object. Basically the given dataset is providing us the overview of the customers information and by generating the insight from those we will try to get some conclusion and come up with some suggestions tha will be helpful for the hotels to improve their business. "
      ],
      "metadata": {
        "id": "gfoNAAC-nUe_"
      }
    },
    {
      "cell_type": "markdown",
      "source": [
        "## ***2. Understanding Your Variables***"
      ],
      "metadata": {
        "id": "nA9Y7ga8ng1Z"
      }
    },
    {
      "cell_type": "code",
      "source": [
        "# Dataset Columns\n",
        "Hotel_booking_df.columns"
      ],
      "metadata": {
        "id": "j7xfkqrt5Ag5"
      },
      "execution_count": null,
      "outputs": []
    },
    {
      "cell_type": "code",
      "source": [
        "# Dataset Describe\n",
        "Hotel_booking_df.describe()"
      ],
      "metadata": {
        "id": "DnOaZdaE5Q5t"
      },
      "execution_count": null,
      "outputs": []
    },
    {
      "cell_type": "markdown",
      "source": [
        "### Variables Description "
      ],
      "metadata": {
        "id": "PBTbrJXOngz2"
      }
    },
    {
      "cell_type": "markdown",
      "source": [
        "The name of the individual varriables mentioned in the columns of the data set and the descriptions of them are listed below:\n",
        "\n",
        "⦁\t**hotel:**  Type of the hotel(Resort hotel or City hotel)\n",
        "\n",
        "⦁\t**is_canceled :** 1 indicates as the booking is cancelled and 0 indicates no cancellation.\n",
        "\n",
        "⦁\t**lead_time:** number of days before arrival from booking date.\n",
        "\n",
        "⦁\t**arrival_date_year**: year of arrival date.\n",
        "\n",
        "⦁\t**arrival_date_month :** year of arrival month.\n",
        "\n",
        "⦁\t**arrival_date_week_number:** week number of that perticular arrival year.\n",
        "\n",
        "⦁\t**arrival_date_day_of_month:** Month number of that perticular arrival year.\n",
        "\n",
        "⦁\t**stays_in_weekend_nights:** Number of saturday and sunday nights spend in the hotel by the tourists/guests.\n",
        "\n",
        "⦁\t**stays_in_week_nights:** Number of week nights( Monday to Friday) spend in the hotel by the tourists/guests.\n",
        "\n",
        "⦁ **adults:** Number of adults among the guests.\n",
        "\n",
        "⦁\t**children**: Number of children among the guests.\n",
        "\n",
        "⦁\t**babies:** Number of children among the guests.\n",
        "\n",
        "⦁\t**meal:** Type of meal booked.\n",
        "\n",
        "⦁\t**country:** Country from where the gusts belong.\n",
        "\n",
        "⦁\t**market_segment:** Designation of market segment.\n",
        "\n",
        "⦁\t**distribution_channel:** Name of the booking distribution channel.\n",
        "\n",
        "⦁\t**is_repeated_guest :** 1 indicates the guest is a repeated guest and 0 indicates new guest.\n",
        "\n",
        "⦁\t**previous_cancellations:** Number of cancelleations prior to the current booking.\n",
        "\n",
        "⦁\t**previous_bookings_not_canceled:** Number of not cancelled bookings prior to the current booking.\n",
        "\n",
        "⦁\t**reserved_room_type:** Code of room reserved.\n",
        "\n",
        "⦁\t**assigned_room_type:** Code of room assigned.\n",
        "\n",
        "⦁\t**booking_changes:** Number changes made by the booking.\n",
        "\n",
        "⦁\t**deposit_type:** type of the deposit made by the customer/guests\n",
        "\n",
        "⦁\t**agent:** Travel agent ID who made the booking.\n",
        "\n",
        "⦁\t**company:** Company ID who made the booking.\n",
        "\n",
        "⦁\t**days_in_waiting_list :** Number of days in the waiting list.\n",
        "\n",
        "⦁\t**customer_type:** Type of customer assuming one of four categories. \n",
        "\n",
        "⦁\t**adr:** Average daily rate, as defined by dividing the sum of all lodging \n",
        "transactions by the total number of staying nights.\n",
        "\n",
        "⦁\t**required_car_parking_spaces:** Number of car parking spaces required by the customers or guests.\n",
        "\n",
        "⦁\t**total_of_special_requests:** Number of special requests made by the customer.\n",
        "\n",
        "⦁\t**reservation_status:** Reservation status( Canceled, check out or no show)\n",
        "\n",
        "⦁\t**reservation_status_date:** Date on which the last reservation status was updated."
      ],
      "metadata": {
        "id": "aJV4KIxSnxay"
      }
    },
    {
      "cell_type": "markdown",
      "source": [
        "### Check Unique Values for each variable."
      ],
      "metadata": {
        "id": "u3PMJOP6ngxN"
      }
    },
    {
      "cell_type": "code",
      "source": [
        "# Check Unique Values for each variable.\n",
        "for items in Hotel_booking_df.columns.tolist():\n",
        "  print('The number of uniques values in column',items,'is', Hotel_booking_df[items].nunique())"
      ],
      "metadata": {
        "id": "zms12Yq5n-jE"
      },
      "execution_count": null,
      "outputs": []
    },
    {
      "cell_type": "code",
      "source": [
        "#lets check couple of unique values on by one with the name of the columns\n",
        "Hotel_booking_df['hotel'].unique()"
      ],
      "metadata": {
        "id": "h8b-Zcz2t8P3"
      },
      "execution_count": null,
      "outputs": []
    },
    {
      "cell_type": "code",
      "source": [
        "Hotel_booking_df['is_canceled'].unique()"
      ],
      "metadata": {
        "id": "lYm6FxU6uUP3"
      },
      "execution_count": null,
      "outputs": []
    },
    {
      "cell_type": "code",
      "source": [
        "Hotel_booking_df['arrival_date_year'].unique()"
      ],
      "metadata": {
        "id": "3LXHJzXvue1T"
      },
      "execution_count": null,
      "outputs": []
    },
    {
      "cell_type": "code",
      "source": [
        "Hotel_booking_df['children'].unique()"
      ],
      "metadata": {
        "id": "a22sG2oluxc1"
      },
      "execution_count": null,
      "outputs": []
    },
    {
      "cell_type": "markdown",
      "source": [
        "## 3. ***Data Wrangling***"
      ],
      "metadata": {
        "id": "dauF4eBmngu3"
      }
    },
    {
      "cell_type": "markdown",
      "source": [
        "### Data Wrangling Code"
      ],
      "metadata": {
        "id": "bKJF3rekwFvQ"
      }
    },
    {
      "cell_type": "code",
      "source": [
        "# Write your code to make your dataset analysis ready.\n",
        "Hotel_booking_df.isnull().sum().sort_values(ascending=False)[:10]"
      ],
      "metadata": {
        "id": "wk-9a2fpoLcV"
      },
      "execution_count": null,
      "outputs": []
    },
    {
      "cell_type": "code",
      "source": [
        "#lets fill the null values for agent and country with zero.\n",
        "\n",
        "Hotel_booking_df[['company','agent']]= Hotel_booking_df[['company','agent']].fillna(0.0)"
      ],
      "metadata": {
        "id": "0OUmw5Ydh_FM"
      },
      "execution_count": null,
      "outputs": []
    },
    {
      "cell_type": "code",
      "source": [
        "#next we would fill the null values for children as well with 0 and also change the type to integer.\n",
        "Hotel_booking_df[['children']]= Hotel_booking_df[['children']].fillna(0).astype('int64')"
      ],
      "metadata": {
        "id": "-OxyVLj9seyT"
      },
      "execution_count": null,
      "outputs": []
    },
    {
      "cell_type": "code",
      "source": [
        "#For country we will replace the missing values with 'unknown'\n",
        "Hotel_booking_df['country'].fillna(value= 'unknown',inplace=True)"
      ],
      "metadata": {
        "id": "fjUUAolttghU"
      },
      "execution_count": null,
      "outputs": []
    },
    {
      "cell_type": "code",
      "source": [
        "Hotel_booking_df['country'].isnull().sum()"
      ],
      "metadata": {
        "id": "AibhaqPvxGS1"
      },
      "execution_count": null,
      "outputs": []
    },
    {
      "cell_type": "code",
      "source": [
        "#lets verify whether we have any null values in the data set"
      ],
      "metadata": {
        "id": "xWfFFxGox11U"
      },
      "execution_count": null,
      "outputs": []
    },
    {
      "cell_type": "code",
      "source": [
        "Hotel_booking_df.isnull().sum()"
      ],
      "metadata": {
        "id": "GX3tBdZcxfpt"
      },
      "execution_count": null,
      "outputs": []
    },
    {
      "cell_type": "code",
      "source": [
        "#lets find out total cancellation percentage\n",
        "\n",
        "total_cancellation= Hotel_booking_df['is_canceled'].sum()"
      ],
      "metadata": {
        "id": "BOt2knAKfG8M"
      },
      "execution_count": null,
      "outputs": []
    },
    {
      "cell_type": "code",
      "source": [
        "total_cancellation"
      ],
      "metadata": {
        "id": "CdvBAMmLfpH4"
      },
      "execution_count": null,
      "outputs": []
    },
    {
      "cell_type": "code",
      "source": [
        "number_of_rows=Hotel_booking_df.shape[0]"
      ],
      "metadata": {
        "id": "1g9DZlaagGq4"
      },
      "execution_count": null,
      "outputs": []
    },
    {
      "cell_type": "code",
      "source": [
        "number_of_rows"
      ],
      "metadata": {
        "id": "Ufv2IAmzgJM1"
      },
      "execution_count": null,
      "outputs": []
    },
    {
      "cell_type": "code",
      "source": [
        "total_number_of_bookings=number_of_rows"
      ],
      "metadata": {
        "id": "JdgnShxrfsc6"
      },
      "execution_count": null,
      "outputs": []
    },
    {
      "cell_type": "code",
      "source": [
        "percentage_of_cancellation=round((total_cancellation/total_number_of_bookings)*100,2)"
      ],
      "metadata": {
        "id": "IpG9IvICgXdG"
      },
      "execution_count": null,
      "outputs": []
    },
    {
      "cell_type": "code",
      "source": [
        "percentage_of_cancellation"
      ],
      "metadata": {
        "id": "CBDfhUpagpgH"
      },
      "execution_count": null,
      "outputs": []
    },
    {
      "cell_type": "code",
      "source": [
        "#now lets try to find out the booking ratio"
      ],
      "metadata": {
        "id": "m_YnVEsIixQt"
      },
      "execution_count": null,
      "outputs": []
    },
    {
      "cell_type": "code",
      "source": [
        "Hotel_booking_df['hotel'].value_counts()"
      ],
      "metadata": {
        "id": "-nzRo89CjQuq"
      },
      "execution_count": null,
      "outputs": []
    },
    {
      "cell_type": "code",
      "source": [
        "booking_percentage_for_city_hotel=round((53428/total_number_of_bookings)*100,2)"
      ],
      "metadata": {
        "id": "pIeynWXNj0Sv"
      },
      "execution_count": null,
      "outputs": []
    },
    {
      "cell_type": "code",
      "source": [
        "booking_percentage_for_city_hotel"
      ],
      "metadata": {
        "id": "XzrFXVF-k01L"
      },
      "execution_count": null,
      "outputs": []
    },
    {
      "cell_type": "code",
      "source": [
        "booking_percentage_for_Rosort_hotel=round((33968/total_number_of_bookings)*100,2)"
      ],
      "metadata": {
        "id": "s3Ww6Tuqk4Et"
      },
      "execution_count": null,
      "outputs": []
    },
    {
      "cell_type": "code",
      "source": [
        "booking_percentage_for_Rosort_hotel"
      ],
      "metadata": {
        "id": "F_gEV6AjlDXo"
      },
      "execution_count": null,
      "outputs": []
    },
    {
      "cell_type": "code",
      "source": [
        "#lets try to find out the percentage of booking in each year\n",
        "#before that we need to get the confirm bookings by removing the cancellaations\n",
        "Hotel_booking_df_not_cancelled=Hotel_booking_df[Hotel_booking_df['is_canceled']==0] #we are using boolean indexing method\n"
      ],
      "metadata": {
        "id": "BgHawvAR7oJr"
      },
      "execution_count": null,
      "outputs": []
    },
    {
      "cell_type": "code",
      "source": [
        "total_bookings_without_cancellation=Hotel_booking_df_not_cancelled.shape[0]"
      ],
      "metadata": {
        "id": "9fZ_LbJ_HCDI"
      },
      "execution_count": null,
      "outputs": []
    },
    {
      "cell_type": "code",
      "source": [
        "total_bookings_without_cancellation"
      ],
      "metadata": {
        "id": "RVGALh_jHNcU"
      },
      "execution_count": null,
      "outputs": []
    },
    {
      "cell_type": "code",
      "source": [
        "total_bookings_by_each_year=dict(Hotel_booking_df_not_cancelled['arrival_date_year'].value_counts())"
      ],
      "metadata": {
        "id": "uOu9CrT2DIno"
      },
      "execution_count": null,
      "outputs": []
    },
    {
      "cell_type": "code",
      "source": [
        "total_bookings_by_each_year"
      ],
      "metadata": {
        "id": "llbkdxEREaNh"
      },
      "execution_count": null,
      "outputs": []
    },
    {
      "cell_type": "code",
      "source": [
        "#percentage of booking by each year is:-\n",
        "for year in total_bookings_by_each_year:\n",
        "  print(round((total_bookings_by_each_year[year]/total_bookings_without_cancellation)*100,2))\n",
        "\n",
        "\n"
      ],
      "metadata": {
        "id": "9fnsCbV_GojR"
      },
      "execution_count": null,
      "outputs": []
    },
    {
      "cell_type": "code",
      "source": [
        "#lets add a column into our dataset.\n",
        "#lets see the revenue of the hotels. so we would add a column as revenue\n",
        "Hotel_booking_df['Revenue']=(Hotel_booking_df['stays_in_weekend_nights']+Hotel_booking_df['stays_in_week_nights'])*Hotel_booking_df['adr']"
      ],
      "metadata": {
        "id": "QlKlQoLjVdxl"
      },
      "execution_count": null,
      "outputs": []
    },
    {
      "cell_type": "code",
      "source": [
        "Hotel_booking_df['Revenue']"
      ],
      "metadata": {
        "id": "bh9seUFzXDGh"
      },
      "execution_count": null,
      "outputs": []
    },
    {
      "cell_type": "code",
      "source": [
        "#lets check the revenue by the type of the hotel\n",
        "Hotel_booking_df.groupby('hotel')['Revenue'].sum().sort_values(ascending=False)"
      ],
      "metadata": {
        "id": "5IrepOrUZVW_"
      },
      "execution_count": null,
      "outputs": []
    },
    {
      "cell_type": "code",
      "source": [
        "#now lets also check the repeated guests percentages\n",
        "Hotel_booking_df_not_cancelled['is_repeated_guest'].value_counts()"
      ],
      "metadata": {
        "id": "OiFfpSNRXYTw"
      },
      "execution_count": null,
      "outputs": []
    },
    {
      "cell_type": "code",
      "source": [
        "percentage_of_repeated_guests= round((3154/total_bookings_without_cancellation)*100,2)"
      ],
      "metadata": {
        "id": "3PeXbxi4YDnh"
      },
      "execution_count": null,
      "outputs": []
    },
    {
      "cell_type": "code",
      "source": [
        "percentage_of_repeated_guests"
      ],
      "metadata": {
        "id": "y225rd4qX3jw"
      },
      "execution_count": null,
      "outputs": []
    },
    {
      "cell_type": "code",
      "source": [
        "#lets also make a columns which will give the total guest numbers.\n",
        "Hotel_booking_df['total_guests']=Hotel_booking_df['adults']+Hotel_booking_df['children']+Hotel_booking_df['babies']"
      ],
      "metadata": {
        "id": "juOApFo8nLbO"
      },
      "execution_count": null,
      "outputs": []
    },
    {
      "cell_type": "code",
      "source": [
        "Hotel_booking_df['total_guests']"
      ],
      "metadata": {
        "id": "teVL1AocngBR"
      },
      "execution_count": null,
      "outputs": []
    },
    {
      "cell_type": "code",
      "source": [
        "#Now for better understanding we will make changes in the is_cancelled columns and in is_repeated_guest columns.\n",
        "Hotel_booking_df['is_canceled']=Hotel_booking_df['is_canceled'].map(lambda x: 'not cancelled' if (x==0) else 'cancelled')"
      ],
      "metadata": {
        "id": "971TbJISdxA0"
      },
      "execution_count": null,
      "outputs": []
    },
    {
      "cell_type": "code",
      "source": [
        "Hotel_booking_df['is_canceled']"
      ],
      "metadata": {
        "id": "K_PoJbrgmWex"
      },
      "execution_count": null,
      "outputs": []
    },
    {
      "cell_type": "code",
      "source": [
        "#similar changes will take place for repeated guest column\n",
        "Hotel_booking_df['is_repeated_guest']=Hotel_booking_df['is_repeated_guest'].map(lambda x: 'not repeated' if (x==0) else 'repeated')"
      ],
      "metadata": {
        "id": "VIUv0e9Oe1NC"
      },
      "execution_count": null,
      "outputs": []
    },
    {
      "cell_type": "code",
      "source": [
        "Hotel_booking_df['is_repeated_guest']"
      ],
      "metadata": {
        "id": "CAevccppm2PS"
      },
      "execution_count": null,
      "outputs": []
    },
    {
      "cell_type": "code",
      "source": [
        "#now lets see ythe revenue by the type of the hotel on each row\n",
        "Hotel_booking_df[['hotel','Revenue']]"
      ],
      "metadata": {
        "id": "CoCDe7kNoOQy"
      },
      "execution_count": null,
      "outputs": []
    },
    {
      "cell_type": "markdown",
      "source": [
        "### What all manipulations have you done and insights you found?"
      ],
      "metadata": {
        "id": "MSa1f5Uengrz"
      }
    },
    {
      "cell_type": "markdown",
      "source": [
        "Manipulations done are mentioned below.\n",
        "\n",
        "*   At first we checked the null values in the data set and found that there were four columns as Company, agent, children and Country had null values.\n",
        "*  So we replaced the null values in compnay and agent with Zero as minimum value and also did the same for children column. Since the children column information was float so to make it a bit realistic we changed the type of information to integer.\n",
        "\n",
        "* But since the country column information type is object so we replaced the null values in country with 'unknown'.\n",
        "*   We also deleted the duplicated values to avoid any confusion in the dataset.\n",
        "\n",
        "*  We added two new columns as Revenue and total_guests.\n",
        "*  At last we replaced the 0's and ones'in the two columns (is_canceled, is_repeated_guest) for our better understanding.\n",
        "\n",
        "The isights found are mentioned below.\n",
        "\n",
        "*   As mentioned earlier the dataset had null values inside the four columns \n",
        "*   The data set has three type of information as object, float and integer.\n",
        "\n",
        "*   we have also checked some factors as cancellation percentage, booking ratio, beeoking percentage by each year also tried to see the percentage of repeated guests.\n",
        "*   However we will explore some more factors in the visualization section.\n",
        "\n",
        "\n",
        "\n",
        "\n",
        "\n",
        "\n",
        "\n",
        "\n",
        "\n",
        "\n",
        "\n",
        "\n",
        "\n",
        "\n",
        "\n"
      ],
      "metadata": {
        "id": "LbyXE7I1olp8"
      }
    },
    {
      "cell_type": "markdown",
      "source": [
        "## ***4. Data Vizualization, Storytelling & Experimenting with charts : Understand the relationships between variables***"
      ],
      "metadata": {
        "id": "GF8Ens_Soomf"
      }
    },
    {
      "cell_type": "markdown",
      "source": [
        "#### Chart - 1"
      ],
      "metadata": {
        "id": "0wOQAZs5pc--"
      }
    },
    {
      "cell_type": "code",
      "source": [
        "# Chart - 1 visualization code\n",
        "#lets first look at the overview of the dataset through histogram ploting.\n",
        "Hotel_booking_df.hist(figsize=(23,18))\n",
        "plt.show()"
      ],
      "metadata": {
        "id": "7v_ESjsspbW7"
      },
      "execution_count": null,
      "outputs": []
    },
    {
      "cell_type": "markdown",
      "source": [
        "##### 1. Why did you pick the specific chart?"
      ],
      "metadata": {
        "id": "K5QZ13OEpz2H"
      }
    },
    {
      "cell_type": "markdown",
      "source": [
        "As histogram is a very popular tool so the chart will show the overview of each and every varriables information and gives a clear idea about the data set. It also sumarizes the measured data."
      ],
      "metadata": {
        "id": "XESiWehPqBRc"
      }
    },
    {
      "cell_type": "markdown",
      "source": [
        "##### 2. What is/are the insight(s) found from the chart?"
      ],
      "metadata": {
        "id": "lQ7QKXXCp7Bj"
      }
    },
    {
      "cell_type": "markdown",
      "source": [
        "Below are the insights found from the data.\n",
        "\n",
        "\n",
        "*   Maximum arrival took place in the year of 2016\n",
        "*   Maximum arrival day week number is 30\n",
        "*   Maximum arrival took place in last month\n",
        "*   There are more adults among the guests coming to the hotel.\n",
        "*   There are less spaces for parking.\n",
        "\n",
        "\n",
        "\n",
        "\n",
        "\n"
      ],
      "metadata": {
        "id": "C_j1G7yiqdRP"
      }
    },
    {
      "cell_type": "markdown",
      "source": [
        "##### 3. Will the gained insights help creating a positive business impact? \n",
        "Are there any insights that lead to negative growth? Justify with specific reason."
      ],
      "metadata": {
        "id": "448CDAPjqfQr"
      }
    },
    {
      "cell_type": "markdown",
      "source": [
        "The gained insights from the histogram plot are giving some ideas about some specific factors where the business reached its peak and also highlights some factors which caan be improved. Fo exmaple the maximum arrival took place in the year of 2016 so in that perticulaar year the business reached its peak time where as the car parking spaces are very less to encourage more cutomers to come.\n",
        "\n",
        "For now we caan see that only the car parking spaces are leading to negetive growth of the business due to less space which can be improvedor arranged in a better way to aattract more customers."
      ],
      "metadata": {
        "id": "3cspy4FjqxJW"
      }
    },
    {
      "cell_type": "markdown",
      "source": [
        "#### Chart - 2"
      ],
      "metadata": {
        "id": "KSlN3yHqYklG"
      }
    },
    {
      "cell_type": "code",
      "source": [
        "# now we will be creating a function which will provide bar plot respective with the columns.\n",
        "def get_count_from_column(df,column_label):\n",
        "  df_grpd=df[column_label].value_counts()\n",
        "  df_grpd= pd.DataFrame({'index':df_grpd.index,'count':df_grpd.values})\n",
        "  return df_grpd"
      ],
      "metadata": {
        "id": "R4YgtaqtYklH"
      },
      "execution_count": null,
      "outputs": []
    },
    {
      "cell_type": "code",
      "source": [
        "#Before proceeding lets format the X axis for better understanding\n",
        "\n",
        "def plot_barchart_from_column(df,column_label,t1):\n",
        "  df_grpd=get_count_from_column(df,column_label)\n",
        "  fig,ax=plt.subplots(figsize=(10,5))\n",
        "  c =['g','y','b','r','c']\n",
        "  ax.bar(df_grpd['index'], df_grpd['count'], width=0.6,align='edge',linewidth=6, color=c,alpha=0.6)\n",
        "  plt.title(t1,bbox={'facecolor':'0.20','pad':6})\n",
        "  plt.legend()\n",
        "  plt.ylabel('count')\n",
        "  plt.xticks(rotation=10)\n",
        "  plt.xlabel(column_label)\n",
        "  plt.show()"
      ],
      "metadata": {
        "id": "_LK6C77PbMYt"
      },
      "execution_count": null,
      "outputs": []
    },
    {
      "cell_type": "code",
      "source": [
        "def get_count_from_column(df,column_label):\n",
        "  df_grpd=df[column_label].value_counts()\n",
        "  df_grpd= pd.DataFrame({'index':df_grpd.index,'count':df_grpd.values})\n",
        "  return df_grpd"
      ],
      "metadata": {
        "id": "fR8ou3eYm7lF"
      },
      "execution_count": null,
      "outputs": []
    },
    {
      "cell_type": "code",
      "source": [
        "#lets plot a pie chart from grouped data\n",
        "def plot_piechart_from_column(df,column_label,t1,exp):\n",
        "   df_grpd=get_count_from_column(df,column_label)\n",
        "   fig, ax=plt.subplots(figsize=(10,8))\n",
        "   ax.pie(df_grpd.loc[:, 'count'], labels=df_grpd.loc[:, 'index'], autopct='%1.2f%%',startangle=90, shadow=False, labeldistance=1, explode=exp)\n",
        "   plt.title(t1,bbox={'facecolor':'0.10','pad':6})\n",
        "   ax.axis('equal')\n",
        "   plt.legend()\n",
        "   plt.show()"
      ],
      "metadata": {
        "id": "5r945gN7qkp0"
      },
      "execution_count": null,
      "outputs": []
    },
    {
      "cell_type": "code",
      "source": [
        "exp1=[0.08,0.08]\n",
        "plot_piechart_from_column(Hotel_booking_df,'hotel','Booking percentage by Hotel name', exp1)"
      ],
      "metadata": {
        "id": "RfTb_-2ipjGt"
      },
      "execution_count": null,
      "outputs": []
    },
    {
      "cell_type": "markdown",
      "source": [
        "##### 1. Why did you pick the specific chart?"
      ],
      "metadata": {
        "id": "t6dVpIINYklI"
      }
    },
    {
      "cell_type": "markdown",
      "source": [
        "This pie chart was picked to show the booking ratio between the city hote and the Resort hotel. "
      ],
      "metadata": {
        "id": "5aaW0BYyYklI"
      }
    },
    {
      "cell_type": "markdown",
      "source": [
        "##### 2. What is/are the insight(s) found from the chart?"
      ],
      "metadata": {
        "id": "ijmpgYnKYklI"
      }
    },
    {
      "cell_type": "markdown",
      "source": [
        "We have found that\n",
        "\n",
        "\n",
        "\n",
        "*   Booking ratio for city hotel is 61% aapprox and Resort hotel is 39% approx.\n",
        "\n",
        "*   so ,The city hotels are doing more business than the Resort hotels.\n",
        "\n",
        "\n",
        "\n",
        "\n",
        "\n",
        "\n",
        "\n",
        "\n"
      ],
      "metadata": {
        "id": "PSx9atu2YklI"
      }
    },
    {
      "cell_type": "markdown",
      "source": [
        "##### 3. Will the gained insights help creating a positive business impact? \n",
        "Are there any insights that lead to negative growth? Justify with specific reason."
      ],
      "metadata": {
        "id": "-JiQyfWJYklI"
      }
    },
    {
      "cell_type": "markdown",
      "source": [
        "Yes this will help create positive business impact. we can say that both the hotels are doing good business but for resort hotel the management can plan something better to attract more customers for generating more revenue. In this way the resort hotels can also compete with the city Hotels in doing business. In addition to that we can also say that at present the city hotels are providing more services than the Resort hotels to attract more customers.\n",
        "\n",
        "Solution of Resort Hotel is to find a way to attract more customers and offer some quality services."
      ],
      "metadata": {
        "id": "BcBbebzrYklV"
      }
    },
    {
      "cell_type": "markdown",
      "source": [
        "#### Chart - 3"
      ],
      "metadata": {
        "id": "EM7whBJCYoAo"
      }
    },
    {
      "cell_type": "code",
      "source": [
        "# Chart - 3 visualization code\n",
        "exp1=[0,0.3]\n",
        "plot_piechart_from_column(Hotel_booking_df,'is_canceled','cancelation percentage', exp1)"
      ],
      "metadata": {
        "id": "t6GMdE67YoAp"
      },
      "execution_count": null,
      "outputs": []
    },
    {
      "cell_type": "markdown",
      "source": [
        "##### 1. Why did you pick the specific chart?"
      ],
      "metadata": {
        "id": "fge-S5ZAYoAp"
      }
    },
    {
      "cell_type": "markdown",
      "source": [
        "The chart shows the cancellation percentage of the bookings."
      ],
      "metadata": {
        "id": "5dBItgRVYoAp"
      }
    },
    {
      "cell_type": "markdown",
      "source": [
        "##### 2. What is/are the insight(s) found from the chart?"
      ],
      "metadata": {
        "id": "85gYPyotYoAp"
      }
    },
    {
      "cell_type": "markdown",
      "source": [
        "From the chart we can see the cancellation percentage is 27.49% and more than 72% bookings were confirmed which is good.\n",
        "\n"
      ],
      "metadata": {
        "id": "4jstXR6OYoAp"
      }
    },
    {
      "cell_type": "markdown",
      "source": [
        "##### 3. Will the gained insights help creating a positive business impact? \n",
        "Are there any insights that lead to negative growth? Justify with specific reason."
      ],
      "metadata": {
        "id": "RoGjAbkUYoAp"
      }
    },
    {
      "cell_type": "markdown",
      "source": [
        "As we can see the cancelation percentage is still more than 20 so that should be improved.\n",
        "\n",
        "solution: The customers whoever has canceled the booking can be reached and reasons for cancelation can be collected from them . Based on that the appropriate services can be offered to them so that the number of cancelation can be decreased."
      ],
      "metadata": {
        "id": "zfJ8IqMcYoAp"
      }
    },
    {
      "cell_type": "markdown",
      "source": [
        "#### Chart - 4"
      ],
      "metadata": {
        "id": "4Of9eVA-YrdM"
      }
    },
    {
      "cell_type": "code",
      "source": [
        "# Chart - 4 visualization code\n",
        "plot_barchart_from_column(Hotel_booking_df,'arrival_date_year','booking percentage by year')\n"
      ],
      "metadata": {
        "id": "irlUoxc8YrdO"
      },
      "execution_count": null,
      "outputs": []
    },
    {
      "cell_type": "markdown",
      "source": [
        "##### 1. Why did you pick the specific chart?"
      ],
      "metadata": {
        "id": "iky9q4vBYrdO"
      }
    },
    {
      "cell_type": "markdown",
      "source": [
        "This chart was picked to show the number of arrivals from year to year."
      ],
      "metadata": {
        "id": "aJRCwT6DYrdO"
      }
    },
    {
      "cell_type": "markdown",
      "source": [
        "##### 2. What is/are the insight(s) found from the chart?"
      ],
      "metadata": {
        "id": "F6T5p64dYrdO"
      }
    },
    {
      "cell_type": "markdown",
      "source": [
        "The chart clearly shows that more than double arrival took place in the year of 2016 than the previous year. It also shows that arrivals got decreased by 10-15% atleast in 2017 compared to year 2016. "
      ],
      "metadata": {
        "id": "Xx8WAJvtYrdO"
      }
    },
    {
      "cell_type": "markdown",
      "source": [
        "##### 3. Will the gained insights help creating a positive business impact? \n",
        "Are there any insights that lead to negative growth? Justify with specific reason."
      ],
      "metadata": {
        "id": "y-Ehk30pYrdP"
      }
    },
    {
      "cell_type": "markdown",
      "source": [
        "yes, the gained insights will help to plan better business ideas to attarct more customers to the hotels in the coming years and also by gaining the insights it will be easier to understand whether the hotels are loosing their customers or attracting more customers.\n",
        "\n",
        "solution: Analyze the reasons for cancelations for the year of 2017 as the year shows less number of customers than the previuos year and provide better offers and services to improve the business."
      ],
      "metadata": {
        "id": "jLNxxz7MYrdP"
      }
    },
    {
      "cell_type": "markdown",
      "source": [
        "#### Chart - 5"
      ],
      "metadata": {
        "id": "bamQiAODYuh1"
      }
    },
    {
      "cell_type": "code",
      "source": [
        "# Chart - 5 visualization code\n",
        "Hotel_booking_df_not_canceled=Hotel_booking_df[Hotel_booking_df['is_canceled']=='not cancelled']\n",
        "\n",
        "new_order = ['January', 'February', 'March', 'April', 'May', 'June', 'July', 'August', 'September',\n",
        "             'October', 'November', 'December']\n",
        "\n",
        "sorted_months = Hotel_booking_df_not_canceled['arrival_date_month'].value_counts().reindex(new_order)\n",
        "\n",
        "plt.rcParams['figure.figsize'] = (12, 7)\n",
        "plt.plot(new_order,sorted_months)\n",
        "plt.title('Booking Trend (Monthly)')\n",
        "plt.ylabel('Booking')\n",
        "plt.xlabel('Month')\n",
        "\n"
      ],
      "metadata": {
        "id": "TIJwrbroYuh3"
      },
      "execution_count": null,
      "outputs": []
    },
    {
      "cell_type": "markdown",
      "source": [
        "##### 1. Why did you pick the specific chart?"
      ],
      "metadata": {
        "id": "QHF8YVU7Yuh3"
      }
    },
    {
      "cell_type": "markdown",
      "source": [
        "This line plot is showing the booking trend on month by month basis."
      ],
      "metadata": {
        "id": "dcxuIMRPYuh3"
      }
    },
    {
      "cell_type": "markdown",
      "source": [
        "##### 2. What is/are the insight(s) found from the chart?"
      ],
      "metadata": {
        "id": "GwzvFGzlYuh3"
      }
    },
    {
      "cell_type": "markdown",
      "source": [
        "We can see the the most bookings were made from July to August. Also the least bookings were made at the start and end of the year."
      ],
      "metadata": {
        "id": "uyqkiB8YYuh3"
      }
    },
    {
      "cell_type": "markdown",
      "source": [
        "##### 3. Will the gained insights help creating a positive business impact? \n",
        "Are there any insights that lead to negative growth? Justify with specific reason."
      ],
      "metadata": {
        "id": "qYpmQ266Yuh3"
      }
    },
    {
      "cell_type": "markdown",
      "source": [
        "yes, the gained insight will help us to know the trend of booking months and according to that the hotels can offers more attractive packages with additional services to attract more tourists."
      ],
      "metadata": {
        "id": "_WtzZ_hCYuh4"
      }
    },
    {
      "cell_type": "markdown",
      "source": [
        "#### Chart - 6"
      ],
      "metadata": {
        "id": "OH-pJp9IphqM"
      }
    },
    {
      "cell_type": "code",
      "source": [
        "# Chart - 6 visualization code\n",
        "Country_wise_guest=pd.DataFrame(Hotel_booking_df[['country','total_guests']])\n",
        "Country_wise_guest_df=Country_wise_guest.groupby(['country'])['total_guests'].sum()\n",
        "Country_wise_guest_df.sort_values(ascending=False, inplace=True)\n",
        "top10_countries_by_guest=Country_wise_guest_df.head(10)\n"
      ],
      "metadata": {
        "id": "kuRf4wtuphqN"
      },
      "execution_count": null,
      "outputs": []
    },
    {
      "cell_type": "code",
      "source": [
        "Country_wise_guest_df.head(10)"
      ],
      "metadata": {
        "id": "UQ0b9wXmjF12"
      },
      "execution_count": null,
      "outputs": []
    },
    {
      "cell_type": "code",
      "source": [
        "plt.figure(figsize=(10,6))\n",
        "sns.barplot(x=top10_countries_by_guest.index, y=top10_countries_by_guest).set(title='country-wise comparison')"
      ],
      "metadata": {
        "id": "LIZz4YN1eyyG"
      },
      "execution_count": null,
      "outputs": []
    },
    {
      "cell_type": "markdown",
      "source": [
        "##### 1. Why did you pick the specific chart?"
      ],
      "metadata": {
        "id": "bbFf2-_FphqN"
      }
    },
    {
      "cell_type": "markdown",
      "source": [
        "As to know the high number tourists belong from which countries we are using this chart."
      ],
      "metadata": {
        "id": "loh7H2nzphqN"
      }
    },
    {
      "cell_type": "markdown",
      "source": [
        "##### 2. What is/are the insight(s) found from the chart?"
      ],
      "metadata": {
        "id": "_ouA3fa0phqN"
      }
    },
    {
      "cell_type": "markdown",
      "source": [
        "as we can see that Portugal, UK and France, Spain and Germany are the top countries from where the high number of tourists are coming which are almost 80%. "
      ],
      "metadata": {
        "id": "VECbqPI7phqN"
      }
    },
    {
      "cell_type": "markdown",
      "source": [
        "##### 3. Will the gained insights help creating a positive business impact? \n",
        "Are there any insights that lead to negative growth? Justify with specific reason."
      ],
      "metadata": {
        "id": "Seke61FWphqN"
      }
    },
    {
      "cell_type": "markdown",
      "source": [
        "Yes, the gained insight shows the top 5 countries from where the most business is coming so the hotels can focus more on the tourists belonging to these contries and offer quality hospitality with good services. In addition to that the hotels can also try to attract other country tourists as well by providing good services as well as attractive offers.\n",
        "\n",
        "solution: Other country tourists can also be attracted by providing some offers and services. "
      ],
      "metadata": {
        "id": "DW4_bGpfphqN"
      }
    },
    {
      "cell_type": "markdown",
      "source": [
        "#### Chart - 7"
      ],
      "metadata": {
        "id": "PIIx-8_IphqN"
      }
    },
    {
      "cell_type": "code",
      "source": [
        "# Chart - 7 visualization code"
      ],
      "metadata": {
        "id": "lqAIGUfyphqO"
      },
      "execution_count": null,
      "outputs": []
    },
    {
      "cell_type": "markdown",
      "source": [
        "##### 1. Why did you pick the specific chart?"
      ],
      "metadata": {
        "id": "t27r6nlMphqO"
      }
    },
    {
      "cell_type": "markdown",
      "source": [
        "Answer Here."
      ],
      "metadata": {
        "id": "iv6ro40sphqO"
      }
    },
    {
      "cell_type": "markdown",
      "source": [
        "##### 2. What is/are the insight(s) found from the chart?"
      ],
      "metadata": {
        "id": "r2jJGEOYphqO"
      }
    },
    {
      "cell_type": "markdown",
      "source": [
        "Answer Here"
      ],
      "metadata": {
        "id": "Po6ZPi4hphqO"
      }
    },
    {
      "cell_type": "markdown",
      "source": [
        "##### 3. Will the gained insights help creating a positive business impact? \n",
        "Are there any insights that lead to negative growth? Justify with specific reason."
      ],
      "metadata": {
        "id": "b0JNsNcRphqO"
      }
    },
    {
      "cell_type": "markdown",
      "source": [
        "Answer Here"
      ],
      "metadata": {
        "id": "xvSq8iUTphqO"
      }
    },
    {
      "cell_type": "markdown",
      "source": [
        "#### Chart - 8"
      ],
      "metadata": {
        "id": "BZR9WyysphqO"
      }
    },
    {
      "cell_type": "code",
      "source": [
        "# Chart - 8 visualization code"
      ],
      "metadata": {
        "id": "TdPTWpAVphqO"
      },
      "execution_count": null,
      "outputs": []
    },
    {
      "cell_type": "markdown",
      "source": [
        "##### 1. Why did you pick the specific chart?"
      ],
      "metadata": {
        "id": "jj7wYXLtphqO"
      }
    },
    {
      "cell_type": "markdown",
      "source": [
        "Answer Here."
      ],
      "metadata": {
        "id": "Ob8u6rCTphqO"
      }
    },
    {
      "cell_type": "markdown",
      "source": [
        "##### 2. What is/are the insight(s) found from the chart?"
      ],
      "metadata": {
        "id": "eZrbJ2SmphqO"
      }
    },
    {
      "cell_type": "markdown",
      "source": [
        "Answer Here"
      ],
      "metadata": {
        "id": "mZtgC_hjphqO"
      }
    },
    {
      "cell_type": "markdown",
      "source": [
        "##### 3. Will the gained insights help creating a positive business impact? \n",
        "Are there any insights that lead to negative growth? Justify with specific reason."
      ],
      "metadata": {
        "id": "rFu4xreNphqO"
      }
    },
    {
      "cell_type": "markdown",
      "source": [
        "Answer Here"
      ],
      "metadata": {
        "id": "ey_0qi68phqO"
      }
    },
    {
      "cell_type": "markdown",
      "source": [
        "#### Chart - 9"
      ],
      "metadata": {
        "id": "YJ55k-q6phqO"
      }
    },
    {
      "cell_type": "code",
      "source": [
        "# Chart - 9 visualization code"
      ],
      "metadata": {
        "id": "B2aS4O1ophqO"
      },
      "execution_count": null,
      "outputs": []
    },
    {
      "cell_type": "markdown",
      "source": [
        "##### 1. Why did you pick the specific chart?"
      ],
      "metadata": {
        "id": "gCFgpxoyphqP"
      }
    },
    {
      "cell_type": "markdown",
      "source": [
        "Answer Here."
      ],
      "metadata": {
        "id": "TVxDimi2phqP"
      }
    },
    {
      "cell_type": "markdown",
      "source": [
        "##### 2. What is/are the insight(s) found from the chart?"
      ],
      "metadata": {
        "id": "OVtJsKN_phqQ"
      }
    },
    {
      "cell_type": "markdown",
      "source": [
        "Answer Here"
      ],
      "metadata": {
        "id": "ngGi97qjphqQ"
      }
    },
    {
      "cell_type": "markdown",
      "source": [
        "##### 3. Will the gained insights help creating a positive business impact? \n",
        "Are there any insights that lead to negative growth? Justify with specific reason."
      ],
      "metadata": {
        "id": "lssrdh5qphqQ"
      }
    },
    {
      "cell_type": "markdown",
      "source": [
        "Answer Here"
      ],
      "metadata": {
        "id": "tBpY5ekJphqQ"
      }
    },
    {
      "cell_type": "markdown",
      "source": [
        "#### Chart - 10"
      ],
      "metadata": {
        "id": "U2RJ9gkRphqQ"
      }
    },
    {
      "cell_type": "code",
      "source": [
        "# Chart - 10 visualization code"
      ],
      "metadata": {
        "id": "GM7a4YP4phqQ"
      },
      "execution_count": null,
      "outputs": []
    },
    {
      "cell_type": "markdown",
      "source": [
        "##### 1. Why did you pick the specific chart?"
      ],
      "metadata": {
        "id": "1M8mcRywphqQ"
      }
    },
    {
      "cell_type": "markdown",
      "source": [
        "Answer Here."
      ],
      "metadata": {
        "id": "8agQvks0phqQ"
      }
    },
    {
      "cell_type": "markdown",
      "source": [
        "##### 2. What is/are the insight(s) found from the chart?"
      ],
      "metadata": {
        "id": "tgIPom80phqQ"
      }
    },
    {
      "cell_type": "markdown",
      "source": [
        "Answer Here"
      ],
      "metadata": {
        "id": "Qp13pnNzphqQ"
      }
    },
    {
      "cell_type": "markdown",
      "source": [
        "##### 3. Will the gained insights help creating a positive business impact? \n",
        "Are there any insights that lead to negative growth? Justify with specific reason."
      ],
      "metadata": {
        "id": "JMzcOPDDphqR"
      }
    },
    {
      "cell_type": "markdown",
      "source": [
        "Answer Here"
      ],
      "metadata": {
        "id": "R4Ka1PC2phqR"
      }
    },
    {
      "cell_type": "markdown",
      "source": [
        "#### Chart - 11"
      ],
      "metadata": {
        "id": "x-EpHcCOp1ci"
      }
    },
    {
      "cell_type": "code",
      "source": [
        "# Chart - 11 visualization code"
      ],
      "metadata": {
        "id": "mAQTIvtqp1cj"
      },
      "execution_count": null,
      "outputs": []
    },
    {
      "cell_type": "markdown",
      "source": [
        "##### 1. Why did you pick the specific chart?"
      ],
      "metadata": {
        "id": "X_VqEhTip1ck"
      }
    },
    {
      "cell_type": "markdown",
      "source": [
        "Answer Here."
      ],
      "metadata": {
        "id": "-vsMzt_np1ck"
      }
    },
    {
      "cell_type": "markdown",
      "source": [
        "##### 2. What is/are the insight(s) found from the chart?"
      ],
      "metadata": {
        "id": "8zGJKyg5p1ck"
      }
    },
    {
      "cell_type": "markdown",
      "source": [
        "Answer Here"
      ],
      "metadata": {
        "id": "ZYdMsrqVp1ck"
      }
    },
    {
      "cell_type": "markdown",
      "source": [
        "##### 3. Will the gained insights help creating a positive business impact? \n",
        "Are there any insights that lead to negative growth? Justify with specific reason."
      ],
      "metadata": {
        "id": "PVzmfK_Ep1ck"
      }
    },
    {
      "cell_type": "markdown",
      "source": [
        "Answer Here"
      ],
      "metadata": {
        "id": "druuKYZpp1ck"
      }
    },
    {
      "cell_type": "markdown",
      "source": [
        "#### Chart - 12"
      ],
      "metadata": {
        "id": "n3dbpmDWp1ck"
      }
    },
    {
      "cell_type": "code",
      "source": [
        "# Chart - 12 visualization code"
      ],
      "metadata": {
        "id": "bwevp1tKp1ck"
      },
      "execution_count": null,
      "outputs": []
    },
    {
      "cell_type": "markdown",
      "source": [
        "##### 1. Why did you pick the specific chart?"
      ],
      "metadata": {
        "id": "ylSl6qgtp1ck"
      }
    },
    {
      "cell_type": "markdown",
      "source": [
        "Answer Here."
      ],
      "metadata": {
        "id": "m2xqNkiQp1ck"
      }
    },
    {
      "cell_type": "markdown",
      "source": [
        "##### 2. What is/are the insight(s) found from the chart?"
      ],
      "metadata": {
        "id": "ZWILFDl5p1ck"
      }
    },
    {
      "cell_type": "markdown",
      "source": [
        "Answer Here"
      ],
      "metadata": {
        "id": "x-lUsV2mp1ck"
      }
    },
    {
      "cell_type": "markdown",
      "source": [
        "##### 3. Will the gained insights help creating a positive business impact? \n",
        "Are there any insights that lead to negative growth? Justify with specific reason."
      ],
      "metadata": {
        "id": "M7G43BXep1ck"
      }
    },
    {
      "cell_type": "markdown",
      "source": [
        "Answer Here"
      ],
      "metadata": {
        "id": "5wwDJXsLp1cl"
      }
    },
    {
      "cell_type": "markdown",
      "source": [
        "#### Chart - 13"
      ],
      "metadata": {
        "id": "Ag9LCva-p1cl"
      }
    },
    {
      "cell_type": "code",
      "source": [
        "# Chart - 13 visualization code"
      ],
      "metadata": {
        "id": "EUfxeq9-p1cl"
      },
      "execution_count": null,
      "outputs": []
    },
    {
      "cell_type": "markdown",
      "source": [
        "##### 1. Why did you pick the specific chart?"
      ],
      "metadata": {
        "id": "E6MkPsBcp1cl"
      }
    },
    {
      "cell_type": "markdown",
      "source": [
        "Answer Here."
      ],
      "metadata": {
        "id": "V22bRsFWp1cl"
      }
    },
    {
      "cell_type": "markdown",
      "source": [
        "##### 2. What is/are the insight(s) found from the chart?"
      ],
      "metadata": {
        "id": "2cELzS2fp1cl"
      }
    },
    {
      "cell_type": "markdown",
      "source": [
        "Answer Here"
      ],
      "metadata": {
        "id": "ozQPc2_Ip1cl"
      }
    },
    {
      "cell_type": "markdown",
      "source": [
        "##### 3. Will the gained insights help creating a positive business impact? \n",
        "Are there any insights that lead to negative growth? Justify with specific reason."
      ],
      "metadata": {
        "id": "3MPXvC8up1cl"
      }
    },
    {
      "cell_type": "markdown",
      "source": [
        "Answer Here"
      ],
      "metadata": {
        "id": "GL8l1tdLp1cl"
      }
    },
    {
      "cell_type": "markdown",
      "source": [
        "#### Chart - 14 - Correlation Heatmap"
      ],
      "metadata": {
        "id": "NC_X3p0fY2L0"
      }
    },
    {
      "cell_type": "code",
      "source": [
        "# Correlation Heatmap visualization code"
      ],
      "metadata": {
        "id": "xyC9zolEZNRQ"
      },
      "execution_count": null,
      "outputs": []
    },
    {
      "cell_type": "markdown",
      "source": [
        "##### 1. Why did you pick the specific chart?"
      ],
      "metadata": {
        "id": "UV0SzAkaZNRQ"
      }
    },
    {
      "cell_type": "markdown",
      "source": [
        "Answer Here."
      ],
      "metadata": {
        "id": "DVPuT8LYZNRQ"
      }
    },
    {
      "cell_type": "markdown",
      "source": [
        "##### 2. What is/are the insight(s) found from the chart?"
      ],
      "metadata": {
        "id": "YPEH6qLeZNRQ"
      }
    },
    {
      "cell_type": "markdown",
      "source": [
        "Answer Here"
      ],
      "metadata": {
        "id": "bfSqtnDqZNRR"
      }
    },
    {
      "cell_type": "markdown",
      "source": [
        "#### Chart - 15 - Pair Plot "
      ],
      "metadata": {
        "id": "q29F0dvdveiT"
      }
    },
    {
      "cell_type": "code",
      "source": [
        "# Pair Plot visualization code"
      ],
      "metadata": {
        "id": "o58-TEIhveiU"
      },
      "execution_count": null,
      "outputs": []
    },
    {
      "cell_type": "markdown",
      "source": [
        "##### 1. Why did you pick the specific chart?"
      ],
      "metadata": {
        "id": "EXh0U9oCveiU"
      }
    },
    {
      "cell_type": "markdown",
      "source": [
        "Answer Here."
      ],
      "metadata": {
        "id": "eMmPjTByveiU"
      }
    },
    {
      "cell_type": "markdown",
      "source": [
        "##### 2. What is/are the insight(s) found from the chart?"
      ],
      "metadata": {
        "id": "22aHeOlLveiV"
      }
    },
    {
      "cell_type": "markdown",
      "source": [
        "Answer Here"
      ],
      "metadata": {
        "id": "uPQ8RGwHveiV"
      }
    },
    {
      "cell_type": "markdown",
      "source": [
        "## **5. Solution to Business Objective**"
      ],
      "metadata": {
        "id": "JcMwzZxoAimU"
      }
    },
    {
      "cell_type": "markdown",
      "source": [
        "#### What do you suggest the client to achieve Business Objective ? \n",
        "Explain Briefly."
      ],
      "metadata": {
        "id": "8G2x9gOozGDZ"
      }
    },
    {
      "cell_type": "markdown",
      "source": [
        "Answer Here."
      ],
      "metadata": {
        "id": "pASKb0qOza21"
      }
    },
    {
      "cell_type": "markdown",
      "source": [
        "# **Conclusion**"
      ],
      "metadata": {
        "id": "gCX9965dhzqZ"
      }
    },
    {
      "cell_type": "markdown",
      "source": [
        "Write the conclusion here."
      ],
      "metadata": {
        "id": "Fjb1IsQkh3yE"
      }
    },
    {
      "cell_type": "markdown",
      "source": [
        "### ***Hurrah! You have successfully completed your EDA Capstone Project !!!***"
      ],
      "metadata": {
        "id": "gIfDvo9L0UH2"
      }
    }
  ]
}